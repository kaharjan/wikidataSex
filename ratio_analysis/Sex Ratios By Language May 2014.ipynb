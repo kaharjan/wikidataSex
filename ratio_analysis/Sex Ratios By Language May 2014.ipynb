{
 "metadata": {
  "name": "",
  "signature": "sha256:4362da563601b4dbe8ca68793b314a600a8bd3cb7bd2f0fdc10c52e709a13d73"
 },
 "nbformat": 3,
 "nbformat_minor": 0,
 "worksheets": [
  {
   "cells": [
    {
     "cell_type": "heading",
     "level": 2,
     "metadata": {},
     "source": [
      "History of this Analysis"
     ]
    },
    {
     "cell_type": "markdown",
     "metadata": {},
     "source": [
      "Previously did this on DATE.\n",
      "Critiqued, the \"sex\" not gender idea. Or abitrariness.\n",
      "Since then, the label has been changed.\n",
      "\n",
      "I support SODIUM"
     ]
    },
    {
     "cell_type": "markdown",
     "metadata": {},
     "source": [
      "Research Q's\n",
      "\n",
      "2. Visualize the percentage by language.\n",
      "    2. Splitting out non -wiki- ie. wikivoyage projects.\n",
      "5. compares to previous date.\n",
      "1. What are the highest non-MF sexes/genders?\n",
      "    2. which languages use them most.\n",
      "4. Per sex-used value, what are the average number of other porperties.\n"
     ]
    },
    {
     "cell_type": "code",
     "collapsed": false,
     "input": [
      "import json\n",
      "from collections import defaultdict\n",
      "import pandas as pd\n",
      "import pywikibot\n",
      "import decimal\n",
      "NOPLACES = decimal.Decimal(10) ** 0\n",
      "%pylab inline"
     ],
     "language": "python",
     "metadata": {},
     "outputs": [
      {
       "output_type": "stream",
       "stream": "stderr",
       "text": [
        "VERBOSE:pywiki:Starting 1 threads...\n"
       ]
      },
      {
       "output_type": "stream",
       "stream": "stdout",
       "text": [
        "Populating the interactive namespace from numpy and matplotlib\n"
       ]
      }
     ],
     "prompt_number": 1
    },
    {
     "cell_type": "code",
     "collapsed": false,
     "input": [
      "jsonfile = open('lang_sex.json','r')"
     ],
     "language": "python",
     "metadata": {},
     "outputs": [],
     "prompt_number": 2
    },
    {
     "cell_type": "code",
     "collapsed": false,
     "input": [
      "bigdict = json.load(jsonfile)"
     ],
     "language": "python",
     "metadata": {},
     "outputs": [],
     "prompt_number": 3
    },
    {
     "cell_type": "code",
     "collapsed": false,
     "input": [
      "lang_sex = defaultdict(dict)"
     ],
     "language": "python",
     "metadata": {},
     "outputs": [],
     "prompt_number": 4
    },
    {
     "cell_type": "code",
     "collapsed": false,
     "input": [
      "for keystring, count in bigdict.iteritems():\n",
      "    lang, sex = keystring.split('--')\n",
      "    lang_sex[lang][sex] = count"
     ],
     "language": "python",
     "metadata": {},
     "outputs": [],
     "prompt_number": 5
    },
    {
     "cell_type": "code",
     "collapsed": false,
     "input": [
      "used_sexes = defaultdict(list)\n",
      "for lang, sex_dict in lang_sex.iteritems():\n",
      "    for sex in sex_dict.iterkeys():\n",
      "        used_sexes[sex].append(lang)"
     ],
     "language": "python",
     "metadata": {},
     "outputs": [],
     "prompt_number": 6
    },
    {
     "cell_type": "code",
     "collapsed": false,
     "input": [
      "used_sexes_count = {sex: len(lang_list) for sex, lang_list in used_sexes.iteritems()}"
     ],
     "language": "python",
     "metadata": {},
     "outputs": [],
     "prompt_number": 7
    },
    {
     "cell_type": "code",
     "collapsed": false,
     "input": [
      "used_sexes_count"
     ],
     "language": "python",
     "metadata": {},
     "outputs": [
      {
       "metadata": {},
       "output_type": "pyout",
       "prompt_number": 8,
       "text": [
        "{u'Q1052281': 63,\n",
        " u'Q1097630': 51,\n",
        " u'Q2449503': 24,\n",
        " u'Q43445': 55,\n",
        " u'Q44148': 66,\n",
        " u'Q48270': 23,\n",
        " u'Q639354': 89,\n",
        " u'Q658': 1,\n",
        " u'Q6581072': 367,\n",
        " u'Q6581097': 395,\n",
        " u'Q746411': 10,\n",
        " u'Q8441': 3}"
       ]
      }
     ],
     "prompt_number": 8
    },
    {
     "cell_type": "code",
     "collapsed": false,
     "input": [
      "len(used_sexes_count)"
     ],
     "language": "python",
     "metadata": {},
     "outputs": [
      {
       "metadata": {},
       "output_type": "pyout",
       "prompt_number": 9,
       "text": [
        "12"
       ]
      }
     ],
     "prompt_number": 9
    },
    {
     "cell_type": "code",
     "collapsed": false,
     "input": [
      "sexdf = pd.DataFrame.from_dict(lang_sex, orient='index')"
     ],
     "language": "python",
     "metadata": {},
     "outputs": [],
     "prompt_number": 10
    },
    {
     "cell_type": "code",
     "collapsed": false,
     "input": [
      "sexdf = sexdf.fillna(value=0)"
     ],
     "language": "python",
     "metadata": {},
     "outputs": [],
     "prompt_number": 11
    },
    {
     "cell_type": "code",
     "collapsed": false,
     "input": [
      "#sexdf.plot(kind='bar', stacked=True, figsize=(10,10))"
     ],
     "language": "python",
     "metadata": {},
     "outputs": [],
     "prompt_number": 12
    },
    {
     "cell_type": "code",
     "collapsed": false,
     "input": [
      "norm_sex = sexdf.apply(lambda col: col / float(col.sum()), axis=1)"
     ],
     "language": "python",
     "metadata": {},
     "outputs": [],
     "prompt_number": 13
    },
    {
     "cell_type": "code",
     "collapsed": false,
     "input": [
      "enwp = pywikibot.Site('en','wikipedia')\n",
      "wikidata = enwp.data_repository()\n",
      "\n",
      "def english_label(qid):\n",
      "    page = pywikibot.ItemPage(wikidata, qid)\n",
      "    data = page.get()\n",
      "    return data['labels']['en']"
     ],
     "language": "python",
     "metadata": {},
     "outputs": [],
     "prompt_number": 14
    },
    {
     "cell_type": "code",
     "collapsed": true,
     "input": [
      "sex_qs = [str(q) for q in norm_sex.columns]"
     ],
     "language": "python",
     "metadata": {},
     "outputs": [],
     "prompt_number": 15
    },
    {
     "cell_type": "code",
     "collapsed": false,
     "input": [
      "sex_labels = [english_label(sex_q) for sex_q in sex_qs]"
     ],
     "language": "python",
     "metadata": {},
     "outputs": [
      {
       "output_type": "stream",
       "stream": "stderr",
       "text": [
        "VERBOSE:pywiki:Found 1 wikidata:wikidata processes running, including this one.\n"
       ]
      }
     ],
     "prompt_number": 16
    },
    {
     "cell_type": "code",
     "collapsed": false,
     "input": [
      "norm_sex.columns = sex_labels"
     ],
     "language": "python",
     "metadata": {},
     "outputs": [],
     "prompt_number": 17
    },
    {
     "cell_type": "code",
     "collapsed": false,
     "input": [
      "#norm_sex.index = [label.replace('wiki','') for label in norm_sex.index]"
     ],
     "language": "python",
     "metadata": {},
     "outputs": [],
     "prompt_number": 18
    },
    {
     "cell_type": "code",
     "collapsed": false,
     "input": [
      "sexdf['total'] = sexdf.sum(axis=1)"
     ],
     "language": "python",
     "metadata": {},
     "outputs": [],
     "prompt_number": 19
    },
    {
     "cell_type": "code",
     "collapsed": false,
     "input": [
      "fs1000 = norm_sex[sexdf['total']>10000].sort('female', ascending=True)"
     ],
     "language": "python",
     "metadata": {},
     "outputs": [],
     "prompt_number": 20
    },
    {
     "cell_type": "code",
     "collapsed": false,
     "input": [
      "fsplot = fs1000.plot(kind='bar', stacked=True, legend=True, figsize=(13,8), alpha=0.9, ylim=(0,1),\n",
      "                     title= '''Comoposition of Wikidata Prorerty:P21 \"Sex or Gender\" by Language \n",
      "(Languages with over 1,000 associated P21)''',\n",
      "                     colormap='Set1')\n",
      "\n",
      "plt.yticks(linspace(0, 1, num=11), [str(decimal.Decimal(x * 100).quantize(NOPLACES))+'%' for x in arange(0,1.1,0.1)])\n"
     ],
     "language": "python",
     "metadata": {},
     "outputs": [
      {
       "metadata": {},
       "output_type": "pyout",
       "prompt_number": 21,
       "text": [
        "([<matplotlib.axis.YTick at 0x7f294a5f9610>,\n",
        "  <matplotlib.axis.YTick at 0x7f294a640f90>,\n",
        "  <matplotlib.axis.YTick at 0x7f294a6274d0>,\n",
        "  <matplotlib.axis.YTick at 0x7f2949bf2710>,\n",
        "  <matplotlib.axis.YTick at 0x7f2949bf2c10>,\n",
        "  <matplotlib.axis.YTick at 0x7f2949c03150>,\n",
        "  <matplotlib.axis.YTick at 0x7f2949c037d0>,\n",
        "  <matplotlib.axis.YTick at 0x7f2949be3050>,\n",
        "  <matplotlib.axis.YTick at 0x7f2949c03f50>,\n",
        "  <matplotlib.axis.YTick at 0x7f2949b8b710>,\n",
        "  <matplotlib.axis.YTick at 0x7f2949b8be90>],\n",
        " <a list of 11 Text yticklabel objects>)"
       ]
      },
      {
       "metadata": {},
       "output_type": "display_data",
       "png": "[encoded data removed]",
       "text": [
        "<matplotlib.figure.Figure at 0x7f294a627510>"
       ]
      }
     ],
     "prompt_number": 21
    },
    {
     "cell_type": "code",
     "collapsed": false,
     "input": [
      "may2013 = dict()\n",
      "mayfile = open('may2013.txt','r')\n",
      "for line in mayfile.readlines():\n",
      "    wiki, percent = line.split(' ')\n",
      "    #print wiki, percent\n",
      "    may2013[wiki] = percent"
     ],
     "language": "python",
     "metadata": {},
     "outputs": [],
     "prompt_number": 27
    },
    {
     "cell_type": "code",
     "collapsed": false,
     "input": [
      "maydf = pd.DataFrame.from_csv('may2013.txt',sep=',')"
     ],
     "language": "python",
     "metadata": {},
     "outputs": [],
     "prompt_number": 31
    },
    {
     "cell_type": "code",
     "collapsed": false,
     "input": [
      "maydf['female'] = maydf['perc'] / 100.0"
     ],
     "language": "python",
     "metadata": {},
     "outputs": [],
     "prompt_number": 40
    },
    {
     "cell_type": "code",
     "collapsed": false,
     "input": [
      "diffdf = maydf.join(other=norm_sex,how='inner',lsuffix='_may2013', rsuffix='_march2014')"
     ],
     "language": "python",
     "metadata": {},
     "outputs": [],
     "prompt_number": 42
    },
    {
     "cell_type": "code",
     "collapsed": false,
     "input": [
      "diffdf.head()"
     ],
     "language": "python",
     "metadata": {},
     "outputs": [
      {
       "html": [
        "<div style=\"max-height:1000px;max-width:1500px;overflow:auto;\">\n",
        "<table border=\"1\" class=\"dataframe\">\n",
        "  <thead>\n",
        "    <tr style=\"text-align: right;\">\n",
        "      <th></th>\n",
        "      <th>perc</th>\n",
        "      <th>femalemay2013</th>\n",
        "      <th>female animal</th>\n",
        "      <th>intersex</th>\n",
        "      <th>kathoey</th>\n",
        "      <th>Female</th>\n",
        "      <th>transgender female</th>\n",
        "      <th>male animal</th>\n",
        "      <th>male</th>\n",
        "      <th>femalemarch2014</th>\n",
        "      <th>transgender male</th>\n",
        "      <th>genderqueer</th>\n",
        "      <th>man</th>\n",
        "      <th>sodium</th>\n",
        "    </tr>\n",
        "    <tr>\n",
        "      <th>lang</th>\n",
        "      <th></th>\n",
        "      <th></th>\n",
        "      <th></th>\n",
        "      <th></th>\n",
        "      <th></th>\n",
        "      <th></th>\n",
        "      <th></th>\n",
        "      <th></th>\n",
        "      <th></th>\n",
        "      <th></th>\n",
        "      <th></th>\n",
        "      <th></th>\n",
        "      <th></th>\n",
        "      <th></th>\n",
        "    </tr>\n",
        "  </thead>\n",
        "  <tbody>\n",
        "    <tr>\n",
        "      <th>afwiki</th>\n",
        "      <td> 14.06</td>\n",
        "      <td> 0.1406</td>\n",
        "      <td> 0.00000</td>\n",
        "      <td> 0.00000</td>\n",
        "      <td> 0</td>\n",
        "      <td> 0.000288</td>\n",
        "      <td> 0.000000</td>\n",
        "      <td> 0.000288</td>\n",
        "      <td> 0.883573</td>\n",
        "      <td> 0.115850</td>\n",
        "      <td> 0.000000</td>\n",
        "      <td> 0.00000</td>\n",
        "      <td> 0</td>\n",
        "      <td> 0</td>\n",
        "    </tr>\n",
        "    <tr>\n",
        "      <th>alswiki</th>\n",
        "      <td> 11.01</td>\n",
        "      <td> 0.1101</td>\n",
        "      <td> 0.00000</td>\n",
        "      <td> 0.00000</td>\n",
        "      <td> 0</td>\n",
        "      <td> 0.000567</td>\n",
        "      <td> 0.000000</td>\n",
        "      <td> 0.000000</td>\n",
        "      <td> 0.888322</td>\n",
        "      <td> 0.111111</td>\n",
        "      <td> 0.000000</td>\n",
        "      <td> 0.00000</td>\n",
        "      <td> 0</td>\n",
        "      <td> 0</td>\n",
        "    </tr>\n",
        "    <tr>\n",
        "      <th>anwiki</th>\n",
        "      <td> 16.12</td>\n",
        "      <td> 0.1612</td>\n",
        "      <td> 0.00000</td>\n",
        "      <td> 0.00000</td>\n",
        "      <td> 0</td>\n",
        "      <td> 0.000000</td>\n",
        "      <td> 0.000000</td>\n",
        "      <td> 0.000000</td>\n",
        "      <td> 0.833623</td>\n",
        "      <td> 0.166377</td>\n",
        "      <td> 0.000000</td>\n",
        "      <td> 0.00000</td>\n",
        "      <td> 0</td>\n",
        "      <td> 0</td>\n",
        "    </tr>\n",
        "    <tr>\n",
        "      <th>arwiki</th>\n",
        "      <td> 12.93</td>\n",
        "      <td> 0.1293</td>\n",
        "      <td> 0.00004</td>\n",
        "      <td> 0.00004</td>\n",
        "      <td> 0</td>\n",
        "      <td> 0.000040</td>\n",
        "      <td> 0.000079</td>\n",
        "      <td> 0.000079</td>\n",
        "      <td> 0.846166</td>\n",
        "      <td> 0.153516</td>\n",
        "      <td> 0.000000</td>\n",
        "      <td> 0.00004</td>\n",
        "      <td> 0</td>\n",
        "      <td> 0</td>\n",
        "    </tr>\n",
        "    <tr>\n",
        "      <th>arzwiki</th>\n",
        "      <td> 23.92</td>\n",
        "      <td> 0.2392</td>\n",
        "      <td> 0.00000</td>\n",
        "      <td> 0.00000</td>\n",
        "      <td> 0</td>\n",
        "      <td> 0.000000</td>\n",
        "      <td> 0.000000</td>\n",
        "      <td> 0.000000</td>\n",
        "      <td> 0.712421</td>\n",
        "      <td> 0.287158</td>\n",
        "      <td> 0.000421</td>\n",
        "      <td> 0.00000</td>\n",
        "      <td> 0</td>\n",
        "      <td> 0</td>\n",
        "    </tr>\n",
        "  </tbody>\n",
        "</table>\n",
        "<p>5 rows \u00d7 14 columns</p>\n",
        "</div>"
       ],
       "metadata": {},
       "output_type": "pyout",
       "prompt_number": 43,
       "text": [
        "          perc  femalemay2013  female animal  intersex  kathoey    Female  \\\n",
        "lang                                                                        \n",
        "afwiki   14.06         0.1406        0.00000   0.00000        0  0.000288   \n",
        "alswiki  11.01         0.1101        0.00000   0.00000        0  0.000567   \n",
        "anwiki   16.12         0.1612        0.00000   0.00000        0  0.000000   \n",
        "arwiki   12.93         0.1293        0.00004   0.00004        0  0.000040   \n",
        "arzwiki  23.92         0.2392        0.00000   0.00000        0  0.000000   \n",
        "\n",
        "         transgender female  male animal      male  femalemarch2014  \\\n",
        "lang                                                                  \n",
        "afwiki             0.000000     0.000288  0.883573         0.115850   \n",
        "alswiki            0.000000     0.000000  0.888322         0.111111   \n",
        "anwiki             0.000000     0.000000  0.833623         0.166377   \n",
        "arwiki             0.000079     0.000079  0.846166         0.153516   \n",
        "arzwiki            0.000000     0.000000  0.712421         0.287158   \n",
        "\n",
        "         transgender male  genderqueer  man  sodium  \n",
        "lang                                                 \n",
        "afwiki           0.000000      0.00000    0       0  \n",
        "alswiki          0.000000      0.00000    0       0  \n",
        "anwiki           0.000000      0.00000    0       0  \n",
        "arwiki           0.000000      0.00004    0       0  \n",
        "arzwiki          0.000421      0.00000    0       0  \n",
        "\n",
        "[5 rows x 14 columns]"
       ]
      }
     ],
     "prompt_number": 43
    },
    {
     "cell_type": "code",
     "collapsed": false,
     "input": [],
     "language": "python",
     "metadata": {},
     "outputs": []
    }
   ],
   "metadata": {}
  }
 ]
}